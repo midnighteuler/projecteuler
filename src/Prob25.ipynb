{
 "cells": [
  {
   "cell_type": "markdown",
   "metadata": {},
   "source": [
    "The Fibonacci sequence is defined by the recurrence relation:\n",
    "\n",
    "Fn = Fn−1 + Fn−2, where F1 = 1 and F2 = 1.\n",
    "Hence the first 12 terms will be:\n",
    "\n",
    "F1 = 1\n",
    "\n",
    "F2 = 1\n",
    "\n",
    "F3 = 2\n",
    "\n",
    "F4 = 3\n",
    "\n",
    "F5 = 5\n",
    "\n",
    "F6 = 8\n",
    "\n",
    "F7 = 13\n",
    "\n",
    "F8 = 21\n",
    "\n",
    "F9 = 34\n",
    "\n",
    "F10 = 55\n",
    "\n",
    "F11 = 89\n",
    "\n",
    "F12 = 144\n",
    "\n",
    "The 12th term, F12, is the first term to contain three digits.\n",
    "\n",
    "#### What is the index of the first term in the Fibonacci sequence to contain 1000 digits?"
   ]
  },
  {
   "cell_type": "markdown",
   "metadata": {},
   "source": [
    "As discussed in prob. 2, the closed form $i^{\\text{th}}$ Fibonacci number is:\n",
    "\n",
    "$$F_{i} = \\frac{(\\frac{1+\\sqrt{5}}{2})^{i} - (\\frac{1-\\sqrt{5}}{2})^{i}}{\\sqrt{5}}$$\n",
    "\n",
    "The number of digits is given by:\n",
    "$$\\lceil log_{10} F_{i} \\rceil = \\lceil log_{10} \\frac{(\\frac{1+\\sqrt{5}}{2})^{i} - (\\frac{1-\\sqrt{5}}{2})^{i}}{\\sqrt{5}}\\rceil$$\n",
    "\n",
    "and since $(\\frac{1-\\sqrt{5}}{2})^{i} \\rightarrow 0$ as $i \\rightarrow \\infty$, we have:\n",
    "$$\\lceil log_{10} F_{i} \\rceil \\approx \\lceil i log_{10} \\frac{1-\\sqrt{5}}{2} - \\frac{1}{2} log_{10}(5) \\rceil$$\n"
   ]
  },
  {
   "cell_type": "code",
   "execution_count": 1,
   "metadata": {
    "collapsed": false
   },
   "outputs": [
    {
     "data": {
      "text/plain": [
       "4781.859270753069"
      ]
     },
     "execution_count": 1,
     "metadata": {},
     "output_type": "execute_result"
    }
   ],
   "source": [
    "import math\n",
    "\n",
    "(999 + 0.5*math.log(5)/math.log(10)) / (math.log(((1+5**.5)/2))/math.log(10))"
   ]
  },
  {
   "cell_type": "code",
   "execution_count": 2,
   "metadata": {
    "collapsed": false
   },
   "outputs": [
    {
     "data": {
      "text/plain": [
       "1000.0"
      ]
     },
     "execution_count": 2,
     "metadata": {},
     "output_type": "execute_result"
    }
   ],
   "source": [
    "math.ceil(4782 * math.log(((1+5**.5)/2))/math.log(10) - 0.5*math.log(5)/math.log(10))"
   ]
  }
 ],
 "metadata": {
  "kernelspec": {
   "display_name": "Python 2",
   "language": "python",
   "name": "python2"
  },
  "language_info": {
   "codemirror_mode": {
    "name": "ipython",
    "version": 2
   },
   "file_extension": ".py",
   "mimetype": "text/x-python",
   "name": "python",
   "nbconvert_exporter": "python",
   "pygments_lexer": "ipython2",
   "version": "2.7.12"
  }
 },
 "nbformat": 4,
 "nbformat_minor": 1
}
