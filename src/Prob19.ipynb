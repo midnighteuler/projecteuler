{
 "cells": [
  {
   "cell_type": "markdown",
   "metadata": {},
   "source": [
    "You are given the following information, but you may prefer to do some research for yourself.\n",
    "\n",
    "1 Jan 1900 was a Monday.\n",
    "\n",
    "Thirty days has September,\n",
    "\n",
    "April, June and November.\n",
    "\n",
    "All the rest have thirty-one,\n",
    "\n",
    "Saving February alone,\n",
    "\n",
    "Which has twenty-eight, rain or shine.\n",
    "\n",
    "And on leap years, twenty-nine.\n",
    "\n",
    "A leap year occurs on any year evenly divisible by 4, but not on a century unless it is divisible by 400.\n",
    "\n",
    "\n",
    "### How many Sundays fell on the first of the month during the twentieth century (1 Jan 1901 to 31 Dec 2000)?"
   ]
  },
  {
   "cell_type": "code",
   "execution_count": 1,
   "metadata": {
    "collapsed": false
   },
   "outputs": [],
   "source": [
    "# # All the rest have thirty one.\n",
    "# m = { i:31 for i in range(1,13) }\n",
    "# # Thirty days has September, April, June and November.\n",
    "# for i in [9,4,6,11]:\n",
    "#     m[i] = 30\n",
    "# # Saving February alone, Which has twenty-eight, rain or shine.\n",
    "# m[2] = 28\n",
    "def days_for_month(month, year):\n",
    "    m = {1: 31, 2: 28, 3: 31, 4: 30,\n",
    "     5: 31, 6: 30, 7: 31, 8: 31, \n",
    "     9: 30, 10: 31, 11: 30, 12: 31}\n",
    "    # And on leap years, twenty-nine.\n",
    "    if year % 4 == 0 and not (year % 100 == 0 and year % 400 != 0):\n",
    "        m[2] = 29\n",
    "    \n",
    "    return m[month]\n",
    "\n",
    "# Test\n",
    "assert days_for_month(2, 100) == 28\n",
    "assert days_for_month(2, 400) == 29"
   ]
  },
  {
   "cell_type": "code",
   "execution_count": 2,
   "metadata": {
    "collapsed": false
   },
   "outputs": [
    {
     "name": "stdout",
     "output_type": "stream",
     "text": [
      "171\n"
     ]
    }
   ],
   "source": [
    "start_year = 1901\n",
    "end_year = 2000\n",
    "\n",
    "# 1 Jan 1900 was a monday.\n",
    "days = 0\n",
    "for y in range(1900, start_year):\n",
    "    for mon in range(1,13):\n",
    "        days += days_for_month(month=mon, year=y)\n",
    "offset = days % 7\n",
    "\n",
    "first_sundays = []\n",
    "for y in range(start_year, 2001):\n",
    "    for mon in range(1, 13):\n",
    "        if (offset + days_for_month(month=mon, year=y)) % 7 == 6:\n",
    "            first_sundays.append((mon+1, y))\n",
    "        offset = (offset + days_for_month(month=mon, year=y)) % 7\n",
    "print len(first_sundays)"
   ]
  }
 ],
 "metadata": {
  "kernelspec": {
   "display_name": "Python 2",
   "language": "python",
   "name": "python2"
  },
  "language_info": {
   "codemirror_mode": {
    "name": "ipython",
    "version": 2
   },
   "file_extension": ".py",
   "mimetype": "text/x-python",
   "name": "python",
   "nbconvert_exporter": "python",
   "pygments_lexer": "ipython2",
   "version": "2.7.12"
  }
 },
 "nbformat": 4,
 "nbformat_minor": 1
}
