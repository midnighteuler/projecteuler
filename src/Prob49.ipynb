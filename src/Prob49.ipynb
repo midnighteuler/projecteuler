{
 "cells": [
  {
   "cell_type": "markdown",
   "metadata": {},
   "source": [
    "The arithmetic sequence, 1487, 4817, 8147, in which each of the terms increases by 3330, is unusual in two ways: (i) each of the three terms are prime, and, (ii) each of the 4-digit numbers are permutations of one another.\n",
    "\n",
    "There are no arithmetic sequences made up of three 1-, 2-, or 3-digit primes, exhibiting this property, but there is one other 4-digit increasing sequence.\n",
    "\n",
    "What 12-digit number do you form by concatenating the three terms in this sequence?"
   ]
  },
  {
   "cell_type": "code",
   "execution_count": 1,
   "metadata": {
    "collapsed": false
   },
   "outputs": [
    {
     "name": "stdout",
     "output_type": "stream",
     "text": [
      "1061\n"
     ]
    }
   ],
   "source": [
    "def primes_less_than_n(n):\n",
    "    \"\"\" Returns  a list of primes < n \"\"\"\n",
    "    sieve = [True] * n\n",
    "    for i in xrange(3,int(n**0.5)+1,2):\n",
    "        if sieve[i]:\n",
    "            sieve[i*i::2*i]=[False]*((n-i*i-1)/(2*i)+1)\n",
    "    return [2] + [i for i in xrange(3,n,2) if sieve[i]]\n",
    "\n",
    "max_num_digits = 4\n",
    "primes = primes_less_than_n((10**max_num_digits+1)-1)\n",
    "primes = [p for p in primes if p > 10**3]\n",
    "print len(primes)"
   ]
  },
  {
   "cell_type": "code",
   "execution_count": 2,
   "metadata": {
    "collapsed": false
   },
   "outputs": [
    {
     "name": "stdout",
     "output_type": "stream",
     "text": [
      "[1487, 4817, 8147]\n",
      "[1487, 4817, 8147]\n",
      "[2969, 6299, 9629]\n",
      "[2969, 6299, 9629]\n",
      "[1487, 4817, 8147]\n",
      "[1487, 4817, 8147]\n",
      "[2969, 6299, 9629]\n",
      "[1487, 4817, 8147]\n",
      "[1487, 4817, 8147]\n",
      "[1487, 4817, 8147]\n",
      "[1487, 4817, 8147]\n",
      "[2969, 6299, 9629]\n"
     ]
    }
   ],
   "source": [
    "import itertools\n",
    "\n",
    "def is_arith_seq(s):\n",
    "    if len(s) <= 2:\n",
    "        return False\n",
    "    \n",
    "    d = s[1] - s[0]\n",
    "    for i in range(len(s)-1):\n",
    "        if s[i+1] - s[i] != d:\n",
    "            return False\n",
    "        \n",
    "    return True\n",
    "\n",
    "for p in primes:\n",
    "    perms = []\n",
    "    for pe in set(itertools.permutations(str(p))):\n",
    "        t = int(''.join(pe))\n",
    "        if t in primes:\n",
    "            perms.append(t)\n",
    "    \n",
    "    for pe in itertools.combinations(perms, 3):\n",
    "        pes = sorted(pe)\n",
    "        if is_arith_seq(pes):\n",
    "            print pes"
   ]
  }
 ],
 "metadata": {
  "kernelspec": {
   "display_name": "Python 2",
   "language": "python",
   "name": "python2"
  },
  "language_info": {
   "codemirror_mode": {
    "name": "ipython",
    "version": 2
   },
   "file_extension": ".py",
   "mimetype": "text/x-python",
   "name": "python",
   "nbconvert_exporter": "python",
   "pygments_lexer": "ipython2",
   "version": "2.7.12"
  }
 },
 "nbformat": 4,
 "nbformat_minor": 1
}
