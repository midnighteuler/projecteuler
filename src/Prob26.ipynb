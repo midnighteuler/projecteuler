{
 "cells": [
  {
   "cell_type": "markdown",
   "metadata": {},
   "source": [
    "A unit fraction contains 1 in the numerator. The decimal representation of the unit fractions with denominators 2 to 10 are given:\n",
    "\n",
    "1/2\t= \t0.5\n",
    "\n",
    "1/3\t= \t0.(3)\n",
    "\n",
    "1/4\t= \t0.25\n",
    "\n",
    "1/5\t= \t0.2\n",
    "\n",
    "1/6\t= \t0.1(6)\n",
    "\n",
    "1/7\t= \t0.(142857)\n",
    "\n",
    "1/8\t= \t0.125\n",
    "\n",
    "1/9\t= \t0.(1)\n",
    "\n",
    "1/10\t= \t0.1\n",
    "\n",
    "Where 0.1(6) means 0.166666..., and has a 1-digit recurring cycle. It can be seen that 1/7 has a 6-digit recurring cycle.\n",
    "\n",
    "#### Find the value of d < 1000 for which 1/d contains the longest recurring cycle in its decimal fraction part."
   ]
  },
  {
   "cell_type": "code",
   "execution_count": 1,
   "metadata": {
    "collapsed": false
   },
   "outputs": [
    {
     "name": "stdout",
     "output_type": "stream",
     "text": [
      "1 3\n",
      "2 6\n",
      "6 7\n",
      "15 17\n",
      "17 19\n",
      "20 23\n",
      "26 29\n",
      "42 47\n",
      "53 59\n",
      "54 61\n",
      "87 97\n",
      "98 109\n",
      "101 113\n",
      "117 131\n",
      "134 149\n",
      "150 167\n",
      "161 179\n",
      "162 181\n",
      "173 193\n",
      "200 223\n",
      "206 229\n",
      "209 233\n",
      "231 257\n",
      "236 263\n",
      "242 269\n",
      "245 289\n",
      "281 313\n",
      "303 337\n",
      "307 361\n",
      "330 367\n",
      "341 379\n",
      "344 383\n",
      "350 389\n",
      "377 419\n",
      "389 433\n",
      "414 461\n",
      "438 487\n",
      "441 491\n",
      "449 499\n",
      "452 503\n",
      "458 509\n",
      "486 541\n",
      "513 571\n",
      "519 577\n",
      "533 593\n",
      "557 619\n",
      "582 647\n",
      "593 659\n",
      "630 701\n",
      "638 709\n",
      "654 727\n",
      "668 743\n",
      "729 811\n",
      "738 821\n",
      "740 823\n",
      "771 857\n",
      "776 863\n",
      "798 887\n",
      "843 937\n",
      "846 941\n",
      "857 953\n",
      "873 971\n",
      "879 977\n",
      "884 983\n"
     ]
    }
   ],
   "source": [
    "def cycle_len(N):\n",
    "    n = 1\n",
    "    ns = []\n",
    "    while True:\n",
    "        while n < N:\n",
    "            n *= 10\n",
    "        if n in ns:\n",
    "            return len(ns)\n",
    "        ns.append(n)\n",
    "        \n",
    "        n = n % N\n",
    "        if n % N == 0:\n",
    "            return 0\n",
    "\n",
    "max_c, max_i = 0, 0\n",
    "for i in range(1,1001):\n",
    "    c = cycle_len(i)\n",
    "    if c > max_c:\n",
    "        max_c = c\n",
    "        max_i = i\n",
    "        print max_c, max_i"
   ]
  },
  {
   "cell_type": "code",
   "execution_count": null,
   "metadata": {
    "collapsed": true
   },
   "outputs": [],
   "source": []
  }
 ],
 "metadata": {
  "kernelspec": {
   "display_name": "Python 2",
   "language": "python",
   "name": "python2"
  },
  "language_info": {
   "codemirror_mode": {
    "name": "ipython",
    "version": 2
   },
   "file_extension": ".py",
   "mimetype": "text/x-python",
   "name": "python",
   "nbconvert_exporter": "python",
   "pygments_lexer": "ipython2",
   "version": "2.7.12"
  }
 },
 "nbformat": 4,
 "nbformat_minor": 1
}
