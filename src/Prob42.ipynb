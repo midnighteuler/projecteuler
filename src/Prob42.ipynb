{
 "cells": [
  {
   "cell_type": "markdown",
   "metadata": {},
   "source": [
    "The nth term of the sequence of triangle numbers is given by, tn = ½n(n+1); so the first ten triangle numbers are:\n",
    "\n",
    "1, 3, 6, 10, 15, 21, 28, 36, 45, 55, ...\n",
    "\n",
    "By converting each letter in a word to a number corresponding to its alphabetical position and adding these values we form a word value. For example, the word value for SKY is 19 + 11 + 25 = 55 = t10. If the word value is a triangle number then we shall call the word a triangle word.\n",
    "\n",
    "Using words.txt (right click and 'Save Link/Target As...'), a 16K text file containing nearly two-thousand common English words, how many are triangle words?"
   ]
  },
  {
   "cell_type": "code",
   "execution_count": 1,
   "metadata": {
    "collapsed": false
   },
   "outputs": [
    {
     "name": "stdout",
     "output_type": "stream",
     "text": [
      "1786\n"
     ]
    }
   ],
   "source": [
    "f = open('./p042_words.txt', 'r')\n",
    "t = f.read()\n",
    "f.close()\n",
    "\n",
    "t = [a[1:-1] for a in t.split(',')]\n",
    "print len(t)"
   ]
  },
  {
   "cell_type": "code",
   "execution_count": 2,
   "metadata": {
    "collapsed": false
   },
   "outputs": [],
   "source": [
    "import math\n",
    "\n",
    "# Since n*n <= 2*t < n*(n+1), n = floor(sqrt(2*t)) needs\n",
    "# to be divisible by (n+1) to be triangular.\n",
    "def is_triangular(w):\n",
    "    s = 2*sum([ord(c) - 64 for c in w])\n",
    "    n = int(math.floor(math.sqrt(s)))\n",
    "    \n",
    "    return s % (n + 1) == 0\n",
    "assert is_triangular('SKY') == True \n",
    "\n",
    "# Alternatively, can use quadratic formula and then\n",
    "# check if result is an integer.\n",
    "def is_triangular_alternative(w):\n",
    "    s = sum([ord(c) - 64 for c in w])\n",
    "    n = (-1  + math.sqrt(1 + 8*s))/2.0\n",
    "    \n",
    "    return abs(n - math.floor(n)) < 10e-6\n",
    "assert is_triangular_alternative('SKY') == True "
   ]
  },
  {
   "cell_type": "code",
   "execution_count": 3,
   "metadata": {
    "collapsed": false
   },
   "outputs": [
    {
     "name": "stdout",
     "output_type": "stream",
     "text": [
      "162\n"
     ]
    }
   ],
   "source": [
    "c = 0\n",
    "for w in t:\n",
    "    if is_triangular(w):\n",
    "        c += 1\n",
    "print c"
   ]
  }
 ],
 "metadata": {
  "kernelspec": {
   "display_name": "Python 2",
   "language": "python",
   "name": "python2"
  },
  "language_info": {
   "codemirror_mode": {
    "name": "ipython",
    "version": 2
   },
   "file_extension": ".py",
   "mimetype": "text/x-python",
   "name": "python",
   "nbconvert_exporter": "python",
   "pygments_lexer": "ipython2",
   "version": "2.7.12"
  }
 },
 "nbformat": 4,
 "nbformat_minor": 1
}
