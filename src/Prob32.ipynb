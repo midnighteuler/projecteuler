{
 "cells": [
  {
   "cell_type": "markdown",
   "metadata": {},
   "source": [
    "We shall say that an n-digit number is pandigital if it makes use of all the digits 1 to n exactly once; for example, the 5-digit number, 15234, is 1 through 5 pandigital.\n",
    "\n",
    "The product 7254 is unusual, as the identity, 39 × 186 = 7254, containing multiplicand, multiplier, and product is 1 through 9 pandigital.\n",
    "\n",
    "#### Find the sum of all products whose multiplicand/multiplier/product identity can be written as a 1 through 9 pandigital.\n",
    "\n",
    "HINT: Some products can be obtained in more than one way so be sure to only include it once in your sum."
   ]
  },
  {
   "cell_type": "code",
   "execution_count": 1,
   "metadata": {
    "collapsed": false
   },
   "outputs": [
    {
     "name": "stdout",
     "output_type": "stream",
     "text": [
      "45228\n"
     ]
    }
   ],
   "source": [
    "import itertools\n",
    "\n",
    "products = set()\n",
    "digits = list(range(1,10))\n",
    "\n",
    "for psize in [3,4]:\n",
    "    for c in itertools.permutations(digits, psize):\n",
    "        mult1 = int(''.join([str(d) for d in c]))\n",
    "\n",
    "        odigits = set(digits).difference(set(c))\n",
    "        for c2 in itertools.permutations(odigits, 5-psize):\n",
    "            rdigits = odigits.difference(c2)\n",
    "            mult2 = int(''.join([str(d) for d in c2]))\n",
    "            p = [int(d) for d in str(mult1*mult2)]\n",
    "\n",
    "            if len(p) == len(rdigits) and len(set(rdigits).difference(p)) == 0:\n",
    "                products.add(mult1*mult2)\n",
    "print sum(products)"
   ]
  },
  {
   "cell_type": "code",
   "execution_count": null,
   "metadata": {
    "collapsed": true
   },
   "outputs": [],
   "source": []
  }
 ],
 "metadata": {
  "kernelspec": {
   "display_name": "Python 2",
   "language": "python",
   "name": "python2"
  },
  "language_info": {
   "codemirror_mode": {
    "name": "ipython",
    "version": 2
   },
   "file_extension": ".py",
   "mimetype": "text/x-python",
   "name": "python",
   "nbconvert_exporter": "python",
   "pygments_lexer": "ipython2",
   "version": "2.7.12"
  }
 },
 "nbformat": 4,
 "nbformat_minor": 1
}
