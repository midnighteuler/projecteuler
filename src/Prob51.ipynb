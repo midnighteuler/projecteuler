{
 "cells": [
  {
   "cell_type": "markdown",
   "metadata": {},
   "source": [
    "By replacing the 1st digit of the 2-digit number *3, it turns out that six of the nine possible values: 13, 23, 43, 53, 73, and 83, are all prime.\n",
    "\n",
    "By replacing the 3rd and 4th digits of 56**3 with the same digit, this 5-digit number is the first example having seven primes among the ten generated numbers, yielding the family: 56003, 56113, 56333, 56443, 56663, 56773, and 56993. Consequently 56003, being the first member of this family, is the smallest prime with this property.\n",
    "\n",
    "Find the smallest prime which, by replacing part of the number (not necessarily adjacent digits) with the same digit, is part of an eight prime value family."
   ]
  },
  {
   "cell_type": "code",
   "execution_count": 9,
   "metadata": {
    "collapsed": false
   },
   "outputs": [
    {
     "name": "stdout",
     "output_type": "stream",
     "text": [
      "664579\n"
     ]
    }
   ],
   "source": [
    "def prime_factors(n): # from eratosthenes\n",
    "    factors = []\n",
    "    d = 2\n",
    "    while n > 1:\n",
    "        while n % d == 0:\n",
    "            factors.append(d)\n",
    "            n /= d\n",
    "        \n",
    "        d = d + 1\n",
    "        if d * d > n:\n",
    "            if n > 1:\n",
    "                factors.append(n)\n",
    "            break\n",
    "            \n",
    "    return factors\n",
    "\n",
    "def primes_less_than_n(n):\n",
    "    \"\"\" Returns  a list of primes < n \"\"\"\n",
    "    sieve = [True] * n\n",
    "    for i in xrange(3,int(n**0.5)+1,2):\n",
    "        if sieve[i]:\n",
    "            sieve[i*i::2*i]=[False]*((n-i*i-1)/(2*i)+1)\n",
    "    return [2] + [i for i in xrange(3,n,2) if sieve[i]]\n",
    "\n",
    "max_num_digits = 7\n",
    "all_primes = primes_less_than_n((10**max_num_digits+1)-1)\n",
    "max_p = all_primes[-1]\n",
    "all_primes = set(all_primes)\n",
    "print len(all_primes)\n",
    "\n",
    "def is_prime(n):\n",
    "    if n <= max_p:\n",
    "        return n in all_primes\n",
    "    \n",
    "    return len(prime_factors(n)) == 1"
   ]
  },
  {
   "cell_type": "code",
   "execution_count": 39,
   "metadata": {
    "collapsed": false
   },
   "outputs": [
    {
     "name": "stdout",
     "output_type": "stream",
     "text": [
      "Size: 7 : (56003, 56113, 56333, 56443, 56663, 56773, 56993)\n",
      "Size: 7 : (90007, 92227, 93337, 94447, 96667, 97777, 98887)\n",
      "Size: 7 : (111109, 222109, 444109, 555109, 666109, 777109, 888109)\n",
      "Size: 7 : (111857, 222857, 333857, 555857, 666857, 777857, 888857)\n",
      "Size: 8 : (121313, 222323, 323333, 424343, 525353, 626363, 828383, 929393)\n",
      "120303\n"
     ]
    }
   ],
   "source": [
    "import itertools\n",
    "\n",
    "def replacement_filters(num_digits, num_to_replace):\n",
    "    return itertools.combinations(range(num_digits), num_to_replace)\n",
    "\n",
    "def apply_filter(num, filt, digit):\n",
    "    num = list(str(num))\n",
    "    for d in filt:\n",
    "        num[d] = str(digit)\n",
    "    return int(\"\".join(num))\n",
    "\n",
    "max_num_digits = 3\n",
    "\n",
    "def find_families(max_num_digits):\n",
    "    families = set()\n",
    "    for num_digits in range(1, max_num_digits+1):\n",
    "        #print \"num digits\", num_digits\n",
    "        for n in range(10**(num_digits-1), 10**(num_digits)-1):\n",
    "            for num_to_replace in range(1, num_digits):\n",
    "                for filt in replacement_filters(num_digits, num_to_replace):\n",
    "                    family = set()\n",
    "                    for digit in range(0,9+1):\n",
    "                        p = apply_filter(n, filt, digit)\n",
    "                        if p > 10**(num_digits-1) and is_prime(p):\n",
    "                            family.add(p)\n",
    "                    f = tuple(sorted(list(family)))\n",
    "                    if len(f) > 1 and f not in families:\n",
    "                        families.add(f)\n",
    "                        if len(f) > 6:\n",
    "                            print \"Size:\", len(f), \":\", f\n",
    "                        \n",
    "                        if len(f) == 8:\n",
    "                            print n\n",
    "                            return\n",
    "find_families(max_num_digits=7)"
   ]
  },
  {
   "cell_type": "code",
   "execution_count": null,
   "metadata": {
    "collapsed": true
   },
   "outputs": [],
   "source": []
  }
 ],
 "metadata": {
  "kernelspec": {
   "display_name": "Python 2",
   "language": "python",
   "name": "python2"
  },
  "language_info": {
   "codemirror_mode": {
    "name": "ipython",
    "version": 2
   },
   "file_extension": ".py",
   "mimetype": "text/x-python",
   "name": "python",
   "nbconvert_exporter": "python",
   "pygments_lexer": "ipython2",
   "version": "2.7.12"
  }
 },
 "nbformat": 4,
 "nbformat_minor": 1
}
