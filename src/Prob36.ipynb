{
 "cells": [
  {
   "cell_type": "code",
   "execution_count": 1,
   "metadata": {
    "collapsed": false
   },
   "outputs": [],
   "source": [
    "def is_palindrome(s):\n",
    "    s = str(s)\n",
    "    L = len(s)\n",
    "    for i in range(L/2):\n",
    "        if s[i] != s[-(i+1)]:\n",
    "            return False\n",
    "        \n",
    "    return True\n",
    "assert is_palindrome('racecar')\n",
    "assert is_palindrome('12321')\n",
    "assert is_palindrome(12321)\n",
    "\n",
    "def make_palindrome(n):\n",
    "    s = str(n)\n",
    "    L = len(s)\n",
    "    \n",
    "    for i in range(1,len(s)):\n",
    "        s += s[L-i-1]\n",
    "    \n",
    "    return int(s)\n",
    "assert make_palindrome(123) == 12321\n",
    "\n",
    "def to_bin(n):\n",
    "    return bin(n)[2:]\n",
    "assert to_bin(123) == '1111011'"
   ]
  },
  {
   "cell_type": "code",
   "execution_count": 2,
   "metadata": {
    "collapsed": false
   },
   "outputs": [
    {
     "name": "stdout",
     "output_type": "stream",
     "text": [
      "0 0\n",
      "1 1\n",
      "3 11\n",
      "5 101\n",
      "7 111\n",
      "9 1001\n",
      "33 100001\n",
      "99 1100011\n",
      "313 100111001\n",
      "585 1001001001\n",
      "717 1011001101\n",
      "7447 1110100010111\n",
      "9009 10001100110001\n",
      "15351 11101111110111\n",
      "32223 111110111011111\n",
      "39993 1001110000111001\n",
      "53235 1100111111110011\n",
      "53835 1101001001001011\n",
      "73737 10010000000001001\n",
      "585585 10001110111101110001\n",
      "872187\n"
     ]
    }
   ],
   "source": [
    "double_base_palindromes = []\n",
    "\n",
    "for n in range(10**6):\n",
    "    if not is_palindrome(n):\n",
    "        continue\n",
    "        \n",
    "    pb = to_bin(n)\n",
    "    if is_palindrome(pb):\n",
    "        print n,pb\n",
    "        double_base_palindromes.append(n)\n",
    "print sum(double_base_palindromes)"
   ]
  },
  {
   "cell_type": "code",
   "execution_count": null,
   "metadata": {
    "collapsed": true
   },
   "outputs": [],
   "source": []
  }
 ],
 "metadata": {
  "kernelspec": {
   "display_name": "Python 2",
   "language": "python",
   "name": "python2"
  },
  "language_info": {
   "codemirror_mode": {
    "name": "ipython",
    "version": 2
   },
   "file_extension": ".py",
   "mimetype": "text/x-python",
   "name": "python",
   "nbconvert_exporter": "python",
   "pygments_lexer": "ipython2",
   "version": "2.7.12"
  }
 },
 "nbformat": 4,
 "nbformat_minor": 1
}
