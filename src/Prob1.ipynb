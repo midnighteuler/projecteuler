{
 "cells": [
  {
   "cell_type": "markdown",
   "metadata": {},
   "source": [
    "<pre>\n",
    "If we list all the natural numbers below 10 that are multiples of 3 or 5, we get 3, 5, 6 and 9. The sum of these multiples is 23.\n",
    "\n",
    "Find the sum of all the multiples of 3 or 5 below 1000.\n",
    "\n",
    "\n",
    "</pre>"
   ]
  },
  {
   "cell_type": "markdown",
   "metadata": {},
   "source": [
    "We could just brute force this, but from the legend of Gauss in his baby math class\n",
    "that we can get such consecutive sums of multiples easily:\n",
    "\n",
    "$$\\sum_{i=1}^{n} i = \\frac{n (n+1)}{2}$$\n",
    "\n",
    "Let $N$ be the upper limit (e.g. 10 or 1000)\n",
    "\n",
    "We can split this up as follows:\n",
    "\n",
    "$$3\\sum_{i=1}^{a} i + 5\\sum_{i=1}^{b} i - 15\\sum_{i=1}^{c} i\n",
    " = \n",
    " \\frac{3}{2}a (a+1) + \\frac{5}{2}b (b+1) - \\frac{15}{2}c (c+1)\n",
    "$$ \n",
    "\n",
    "where $$a = \\lfloor \\frac{N-1}{3} \\rfloor\n",
    "\\\\ b = \\lfloor \\frac{N-1}{5} \\rfloor\n",
    "\\\\ c = \\lfloor \\frac{N-1}{15} \\rfloor$$\n",
    "\n",
    "The first term accounting for the 3 multiples, the second the 5, and the third subtracting for the numbers which are multiples of both 3 and 5.\n",
    "\n",
    "We could similarly handle more multiples."
   ]
  },
  {
   "cell_type": "code",
   "execution_count": 2,
   "metadata": {
    "collapsed": false
   },
   "outputs": [],
   "source": [
    "def s(x):\n",
    "    return (x*(x+1))/2\n",
    "    \n",
    "def prob1(N):\n",
    "    a = floor((N-1)/3)\n",
    "    b = floor((N-1)/5)\n",
    "    c = floor((N-1)/15)\n",
    "    \n",
    "    return 3*s(a) + 5*s(b) - 15*s(c)"
   ]
  },
  {
   "cell_type": "code",
   "execution_count": 3,
   "metadata": {
    "collapsed": false
   },
   "outputs": [
    {
     "data": {
      "text/plain": [
       "23.0"
      ]
     },
     "execution_count": 3,
     "metadata": {},
     "output_type": "execute_result"
    }
   ],
   "source": [
    "prob1(10)"
   ]
  },
  {
   "cell_type": "code",
   "execution_count": 4,
   "metadata": {
    "collapsed": false
   },
   "outputs": [
    {
     "data": {
      "text/plain": [
       "233168.0"
      ]
     },
     "execution_count": 4,
     "metadata": {},
     "output_type": "execute_result"
    }
   ],
   "source": [
    "prob1(1000)"
   ]
  },
  {
   "cell_type": "code",
   "execution_count": null,
   "metadata": {
    "collapsed": false
   },
   "outputs": [],
   "source": []
  }
 ],
 "metadata": {
  "kernelspec": {
   "display_name": "Python 2",
   "language": "python",
   "name": "python2"
  },
  "language_info": {
   "codemirror_mode": {
    "name": "ipython",
    "version": 2
   },
   "file_extension": ".py",
   "mimetype": "text/x-python",
   "name": "python",
   "nbconvert_exporter": "python",
   "pygments_lexer": "ipython2",
   "version": "2.7.12"
  }
 },
 "nbformat": 4,
 "nbformat_minor": 0
}
