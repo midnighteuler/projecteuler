{
 "cells": [
  {
   "cell_type": "markdown",
   "metadata": {},
   "source": [
    "Euler discovered the remarkable quadratic formula:\n",
    "\n",
    "n^2+n+41\n",
    "\n",
    "It turns out that the formula will produce 40 primes for the consecutive integer values 0≤n≤39. \n",
    "However, when n=40,40^2+40+41=40(40+1)+41 is divisible by 41, and certainly when n=41, 41^2+41+41 is clearly divisible by 41.\n",
    "\n",
    "The incredible formula n^2−79n+1601was discovered, which produces 80 primes for the consecutive values 0≤n≤79. The product of the coefficients, −79 and 1601, is −126479.\n",
    "\n",
    "Considering quadratics of the form:\n",
    "\n",
    "n^2+an+b, where |a|<1000 and |b|≤1000\n",
    "\n",
    "where |n| is the modulus/absolute value of nn\n",
    "e.g. |11|=11 and |−4|=4\n",
    "\n",
    "### Find the product of the coefficients, a and b, for the quadratic expression that produces the maximum number of primes for consecutive values of n, starting with n=0"
   ]
  },
  {
   "cell_type": "code",
   "execution_count": 11,
   "metadata": {
    "collapsed": false
   },
   "outputs": [
    {
     "name": "stdout",
     "output_type": "stream",
     "text": [
      "{'a': -996, 'num_prime': 1, 'b': 997}\n",
      "{'a': -499, 'num_prime': 2, 'b': 997}\n",
      "{'a': -325, 'num_prime': 3, 'b': 977}\n",
      "{'a': -245, 'num_prime': 4, 'b': 977}\n",
      "{'a': -197, 'num_prime': 5, 'b': 983}\n",
      "{'a': -163, 'num_prime': 6, 'b': 983}\n",
      "{'a': -131, 'num_prime': 7, 'b': 941}\n",
      "{'a': -121, 'num_prime': 8, 'b': 947}\n",
      "{'a': -105, 'num_prime': 10, 'b': 967}\n",
      "{'a': -61, 'num_prime': 70, 'b': 971}\n",
      "-59231\n"
     ]
    }
   ],
   "source": [
    "def prime_factors(n): # from eratosthenes\n",
    "    factors = []\n",
    "    d = 2\n",
    "    while n > 1:\n",
    "        while n % d == 0:\n",
    "            factors.append(d)\n",
    "            n /= d\n",
    "        \n",
    "        d = d + 1\n",
    "        if d * d > n:\n",
    "            if n > 1:\n",
    "                factors.append(n)\n",
    "            break\n",
    "            \n",
    "    return factors\n",
    "\n",
    "def is_prime(n):\n",
    "    return len(prime_factors(n)) == 1\n",
    "\n",
    "assert is_prime(n=2) == True\n",
    "assert is_prime(n=4) == False\n",
    "\n",
    "max_params = { 'a': 0, 'b': 0, 'num_prime': 0 }\n",
    "\n",
    "def f(a,b,n):\n",
    "    return n**2 + a*n + b\n",
    "\n",
    "for a in range(-1000+1, 1000):\n",
    "    for b in range(-1000, 1001):\n",
    "        n = 0\n",
    "        while is_prime(f(a,b,n)):\n",
    "            n += 1\n",
    "        if n-1 > max_params['num_prime']:\n",
    "            max_params = { 'a': a, 'b': b, 'num_prime': n-1 }\n",
    "            print max_params\n",
    "print max_params['a']*max_params['b']"
   ]
  },
  {
   "cell_type": "code",
   "execution_count": null,
   "metadata": {
    "collapsed": true
   },
   "outputs": [],
   "source": []
  }
 ],
 "metadata": {
  "kernelspec": {
   "display_name": "Python 2",
   "language": "python",
   "name": "python2"
  },
  "language_info": {
   "codemirror_mode": {
    "name": "ipython",
    "version": 2
   },
   "file_extension": ".py",
   "mimetype": "text/x-python",
   "name": "python",
   "nbconvert_exporter": "python",
   "pygments_lexer": "ipython2",
   "version": "2.7.12"
  }
 },
 "nbformat": 4,
 "nbformat_minor": 1
}
