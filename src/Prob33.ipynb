{
 "cells": [
  {
   "cell_type": "markdown",
   "metadata": {},
   "source": [
    "The fraction 49/98 is a curious fraction, as an inexperienced mathematician in attempting to simplify it may incorrectly believe that 49/98 = 4/8, which is correct, is obtained by cancelling the 9s.\n",
    "\n",
    "We shall consider fractions like, 30/50 = 3/5, to be trivial examples.\n",
    "\n",
    "There are exactly four non-trivial examples of this type of fraction, less than one in value, and containing two digits in the numerator and denominator.\n",
    "\n",
    "#### If the product of these four fractions is given in its lowest common terms, find the value of the denominator."
   ]
  },
  {
   "cell_type": "code",
   "execution_count": 1,
   "metadata": {
    "collapsed": false
   },
   "outputs": [
    {
     "name": "stdout",
     "output_type": "stream",
     "text": [
      "16 / 64 = 1 / 4\n",
      "19 / 95 = 1 / 5\n",
      "26 / 65 = 2 / 5\n",
      "49 / 98 = 4 / 8\n"
     ]
    }
   ],
   "source": [
    "for i in range(11,100):\n",
    "    d = [int(d) for d in str(i)]\n",
    "    if d[1] == 0 or d[0] == d[1]:\n",
    "        continue\n",
    "    \n",
    "    od = [c for c in range(1,10)]\n",
    "    for o in od:\n",
    "        if d[0] > o:\n",
    "            continue\n",
    "            \n",
    "        # a/b = c/d -> a*d = c*b\n",
    "        if i*o == d[0]*(d[1]*10 + o):\n",
    "            print i,'/',\"%i%i\"%(d[1],o),'=',d[0],'/',o\n",
    "        "
   ]
  },
  {
   "cell_type": "markdown",
   "metadata": {},
   "source": [
    "So (1/4)*(1/5)*(2/5)*(1/2) = (1/4)*(1/5)*(1/5)\n",
    "\n",
    "i.e. 4 x 5 x 5 = 100."
   ]
  },
  {
   "cell_type": "code",
   "execution_count": null,
   "metadata": {
    "collapsed": true
   },
   "outputs": [],
   "source": []
  }
 ],
 "metadata": {
  "kernelspec": {
   "display_name": "Python 2",
   "language": "python",
   "name": "python2"
  },
  "language_info": {
   "codemirror_mode": {
    "name": "ipython",
    "version": 2
   },
   "file_extension": ".py",
   "mimetype": "text/x-python",
   "name": "python",
   "nbconvert_exporter": "python",
   "pygments_lexer": "ipython2",
   "version": "2.7.12"
  }
 },
 "nbformat": 4,
 "nbformat_minor": 1
}
