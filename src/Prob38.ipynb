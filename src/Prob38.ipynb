{
 "cells": [
  {
   "cell_type": "markdown",
   "metadata": {},
   "source": [
    "Take the number 192 and multiply it by each of 1, 2, and 3:\n",
    "\n",
    "192 × 1 = 192\n",
    "\n",
    "192 × 2 = 384\n",
    "\n",
    "192 × 3 = 576\n",
    "\n",
    "By concatenating each product we get the 1 to 9 pandigital, 192384576. We will call 192384576 the concatenated product of 192 and (1,2,3)\n",
    "\n",
    "The same can be achieved by starting with 9 and multiplying by 1, 2, 3, 4, and 5, giving the pandigital, 918273645, which is the concatenated product of 9 and (1,2,3,4,5).\n",
    "\n",
    "What is the largest 1 to 9 pandigital 9-digit number that can be formed as the concatenated product of an integer with (1,2, ... , n) where n > 1?"
   ]
  },
  {
   "cell_type": "code",
   "execution_count": 1,
   "metadata": {
    "collapsed": false
   },
   "outputs": [
    {
     "name": "stdout",
     "output_type": "stream",
     "text": [
      "is pan: 1 n: 9 123456789\n",
      "is pan: 9 n: 5 918273645\n",
      "is pan: 192 n: 3 192384576\n",
      "is pan: 219 n: 3 219438657\n",
      "is pan: 273 n: 3 273546819\n",
      "is pan: 327 n: 3 327654981\n",
      "is pan: 6729 n: 2 672913458\n",
      "is pan: 6792 n: 2 679213584\n",
      "is pan: 6927 n: 2 692713854\n",
      "is pan: 7269 n: 2 726914538\n",
      "is pan: 7293 n: 2 729314586\n",
      "is pan: 7329 n: 2 732914658\n",
      "is pan: 7692 n: 2 769215384\n",
      "is pan: 7923 n: 2 792315846\n",
      "is pan: 7932 n: 2 793215864\n",
      "is pan: 9267 n: 2 926718534\n",
      "is pan: 9273 n: 2 927318546\n",
      "is pan: 9327 n: 2 932718654\n",
      "Max: 932718654\n"
     ]
    }
   ],
   "source": [
    "pans = []\n",
    "for p in range(1,10**4):\n",
    "    digits = set([str(i) for i in range(1,10)])\n",
    "    n = 1\n",
    "    while len(digits) > 0:\n",
    "        pn = str(p*n)\n",
    "        d = set(pn)\n",
    "        if not(d.issubset(digits) and len(d) == len(pn)):break\n",
    "        n += 1\n",
    "        digits = digits.difference(d)\n",
    "        \n",
    "    if len(digits) == 0:\n",
    "        pans.append(int(''.join([str(p*i) for i in range(1,n)])))\n",
    "        print \"is pan:\", p, \"n:\", n-1, pans[-1]\n",
    "print \"Max:\", max(pans)"
   ]
  },
  {
   "cell_type": "code",
   "execution_count": null,
   "metadata": {
    "collapsed": true
   },
   "outputs": [],
   "source": []
  }
 ],
 "metadata": {
  "kernelspec": {
   "display_name": "Python 2",
   "language": "python",
   "name": "python2"
  },
  "language_info": {
   "codemirror_mode": {
    "name": "ipython",
    "version": 2
   },
   "file_extension": ".py",
   "mimetype": "text/x-python",
   "name": "python",
   "nbconvert_exporter": "python",
   "pygments_lexer": "ipython2",
   "version": "2.7.12"
  }
 },
 "nbformat": 4,
 "nbformat_minor": 1
}
