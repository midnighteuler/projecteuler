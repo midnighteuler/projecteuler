{
 "cells": [
  {
   "cell_type": "markdown",
   "metadata": {},
   "source": [
    "The series, 1^1 + 2^2 + 3^3 + ... + 10^10 = 10405071317.\n",
    "\n",
    "Find the last ten digits of the series, 1^1 + 2^2 + 3^3 + ... + 1000^1000."
   ]
  },
  {
   "cell_type": "code",
   "execution_count": 1,
   "metadata": {
    "collapsed": false
   },
   "outputs": [
    {
     "name": "stdout",
     "output_type": "stream",
     "text": [
      "3001\n",
      "9110846700\n"
     ]
    }
   ],
   "source": [
    "n = 1000\n",
    "s = str(sum([i**i for i in range(1,n+1)]))\n",
    "print len(s)\n",
    "print s[-10:]"
   ]
  },
  {
   "cell_type": "code",
   "execution_count": 2,
   "metadata": {
    "collapsed": false
   },
   "outputs": [
    {
     "name": "stdout",
     "output_type": "stream",
     "text": [
      "9110846700\n"
     ]
    }
   ],
   "source": [
    "# Supposing we didn't have native huge integer support;\n",
    "# we can get away with only ever dealing with 10-digit numbers.\n",
    "def truncate(n, num_digits):\n",
    "    return int(str(n)[-num_digits:])\n",
    "\n",
    "n = 1000\n",
    "s = 0\n",
    "for i in range(1,n+1):\n",
    "    p = 1\n",
    "    for j in range(1,i+1):\n",
    "        p = truncate(p*i,10)\n",
    "    s = truncate(s + p, 10)\n",
    "    \n",
    "print s"
   ]
  }
 ],
 "metadata": {
  "kernelspec": {
   "display_name": "Python 2",
   "language": "python",
   "name": "python2"
  },
  "language_info": {
   "codemirror_mode": {
    "name": "ipython",
    "version": 2
   },
   "file_extension": ".py",
   "mimetype": "text/x-python",
   "name": "python",
   "nbconvert_exporter": "python",
   "pygments_lexer": "ipython2",
   "version": "2.7.12"
  }
 },
 "nbformat": 4,
 "nbformat_minor": 1
}
