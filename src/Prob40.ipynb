{
 "cells": [
  {
   "cell_type": "markdown",
   "metadata": {},
   "source": [
    "An irrational decimal fraction is created by concatenating the positive integers:\n",
    "\n",
    "0.123456789101112131415161718192021...\n",
    "\n",
    "It can be seen that the 12th digit of the fractional part is 1.\n",
    "\n",
    "If dn represents the nth digit of the fractional part, find the value of the following expression.\n",
    "\n",
    "d1 × d10 × d100 × d1000 × d10000 × d100000 × d1000000"
   ]
  },
  {
   "cell_type": "markdown",
   "metadata": {},
   "source": [
    "123456789 -> len 9\n",
    "\n",
    "1011121314151617181920212223...9899 -> 2*90\n",
    "\n",
    "100101102103...998999 -> 3*900\n",
    "\n",
    "100010011002...99989999 -> 4*9000\n",
    "\n",
    "1..9\n",
    "\n",
    "10..2*90\n",
    "\n",
    "2x90+1..3*900"
   ]
  },
  {
   "cell_type": "code",
   "execution_count": 1,
   "metadata": {
    "collapsed": false
   },
   "outputs": [],
   "source": [
    "import math\n",
    "def nth_digit(n):\n",
    "    s = 0\n",
    "    i = 1\n",
    "    while s + 9*i*10**(i-1) < n:\n",
    "        s += 9*i*10**(i-1)\n",
    "        i += 1\n",
    "    \n",
    "    m = str(10**(i-1) + int(math.ceil((n - s)*1.0/i)) - 1)\n",
    "    return int(m[(n-s-1)%i])\n",
    "    \n",
    "assert nth_digit(n=12) == 1\n",
    "assert nth_digit(n=9) == 9\n",
    "assert nth_digit(n=9+2*90+3*900+4*3) == 2\n",
    "assert nth_digit(n=196) == 1 # 1 in 102\n",
    "assert nth_digit(n=197) == 0 # 0 in 102\n",
    "assert nth_digit(n=198) == 2 # 2 in 102"
   ]
  },
  {
   "cell_type": "code",
   "execution_count": 2,
   "metadata": {
    "collapsed": false
   },
   "outputs": [
    {
     "name": "stdout",
     "output_type": "stream",
     "text": [
      "210\n"
     ]
    }
   ],
   "source": [
    "p = [nth_digit(10**d) for d in range(7)]\n",
    "pr = 1\n",
    "for d in p: pr *= d\n",
    "print pr"
   ]
  }
 ],
 "metadata": {
  "kernelspec": {
   "display_name": "Python 2",
   "language": "python",
   "name": "python2"
  },
  "language_info": {
   "codemirror_mode": {
    "name": "ipython",
    "version": 2
   },
   "file_extension": ".py",
   "mimetype": "text/x-python",
   "name": "python",
   "nbconvert_exporter": "python",
   "pygments_lexer": "ipython2",
   "version": "2.7.12"
  }
 },
 "nbformat": 4,
 "nbformat_minor": 1
}
