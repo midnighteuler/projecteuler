{
 "cells": [
  {
   "cell_type": "markdown",
   "metadata": {},
   "source": [
    "### Problem:\n",
    "The following iterative sequence is defined for the set of positive integers:\n",
    "\n",
    "n → n/2 (n is even)\n",
    "\n",
    "n → 3n + 1 (n is odd)\n",
    "\n",
    "Using the rule above and starting with 13, we generate the following sequence:\n",
    "\n",
    "13 → 40 → 20 → 10 → 5 → 16 → 8 → 4 → 2 → 1\n",
    "\n",
    "It can be seen that this sequence (starting at 13 and finishing at 1) contains 10 terms. Although it has not been proved yet (Collatz Problem), it is thought that all starting numbers finish at 1.\n",
    "\n",
    "Which starting number, under one million, produces the longest chain?\n",
    "\n",
    "NOTE: Once the chain starts the terms are allowed to go above one million."
   ]
  },
  {
   "cell_type": "code",
   "execution_count": 8,
   "metadata": {
    "collapsed": false
   },
   "outputs": [
    {
     "name": "stdout",
     "output_type": "stream",
     "text": [
      "10\n",
      "837799 525\n"
     ]
    }
   ],
   "source": [
    "prev_lens = { 1: 1 } \n",
    "def collatz_chain_len(start):\n",
    "    if start in prev_lens:\n",
    "        return prev_lens[start]\n",
    "    \n",
    "    n = start/2 if start % 2 == 0 else 3*start + 1\n",
    "    prev_lens[start] = 1 + collatz_chain_len(n)\n",
    "    \n",
    "    return prev_lens[start]\n",
    "\n",
    "print collatz_chain_len(start=13)\n",
    "\n",
    "max_c, max_n = 0, 0\n",
    "for n in range(1,1000000):\n",
    "    c = collatz_chain_len(n)\n",
    "    if max_c < c:\n",
    "        max_c = c\n",
    "        max_n = n\n",
    "\n",
    "print max_n, max_c"
   ]
  },
  {
   "cell_type": "code",
   "execution_count": null,
   "metadata": {
    "collapsed": true
   },
   "outputs": [],
   "source": []
  }
 ],
 "metadata": {
  "kernelspec": {
   "display_name": "Python 2",
   "language": "python",
   "name": "python2"
  },
  "language_info": {
   "codemirror_mode": {
    "name": "ipython",
    "version": 2
   },
   "file_extension": ".py",
   "mimetype": "text/x-python",
   "name": "python",
   "nbconvert_exporter": "python",
   "pygments_lexer": "ipython2",
   "version": "2.7.12"
  }
 },
 "nbformat": 4,
 "nbformat_minor": 1
}
