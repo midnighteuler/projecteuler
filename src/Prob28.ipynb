{
 "cells": [
  {
   "cell_type": "markdown",
   "metadata": {},
   "source": [
    "Starting with the number 1 and moving to the right in a clockwise direction a 5 by 5 spiral is formed as follows:\n",
    "\n",
    "21; 22 23 24 25;\n",
    "\n",
    "20  7;  8  9; 10\n",
    "\n",
    "19  6  1;  2 11\n",
    "\n",
    "18  5;  4  3; 12\n",
    "\n",
    "17; 16 15 14 13;\n",
    "\n",
    "It can be verified that the sum of the numbers on the diagonals is 101.\n",
    "\n",
    "What is the sum of the numbers on the diagonals in a 1001 by 1001 spiral formed in the same way?"
   ]
  },
  {
   "cell_type": "markdown",
   "metadata": {},
   "source": [
    "The number on the final corner is going to be $N^2$.\n",
    "\n",
    "For even $N$, it'll be the bottom left corner, for odd, the top right.\n",
    "\n",
    "For odd $N$, e.g. $N = 5$:\n",
    "$$ 1 $$\n",
    "$$   + 3^2 + (3^2 - 3*1 + 1) + (3^2 - 3*2 + 2) + (3^2 - 3*3 + 3) $$\n",
    "$$   + 5^2 + (5^2 - 5*1 + 1) + (5^2 - 5*2 + 2) + (5^2 - 5*3 + 3) $$\n",
    "\n",
    "where the 3 additional terms to the right of $i^2$ accounts for the other 3 sides of the square (i.e. the other members on the diagonals).\n",
    "\n",
    "For even $N$, e.g. $N = 4$:\n",
    "$$ 0 $$\n",
    "$$  + 2^2 + (2^2 - 2*1 + 1) + (2^2 - 2*2 + 2) + (2^2 - 2*3 + 3) $$\n",
    "$$  + 4^2 + (4^2 - 4*1 + 1) + (4^2 - 4*2 + 2) + (4^2 - 4*3 + 3) $$\n",
    "\n",
    "for odd $N$:\n",
    "$$1 + \\sum_{i=1}^{\\frac{N-1}{2}} \\left\\{ 4(2i + 1)^2 - (2i + 1)(1 + 2 + 3) + (1 + 2 + 3)\\right\\} $$\n",
    "$$ = 1 + \\sum_{i=1}^{\\frac{N-1}{2}} \\left\\{ 16i^2 + 16i + 4 - 12i - 6 + 6 \\right\\} $$\n",
    "$$ = 1 + \\sum_{i=1}^{\\frac{N-1}{2}} \\left\\{ 16i^2 + 4i + 4 \\right\\} $$\n",
    "$$ = 1 + 16\\sum_{i=1}^{\\frac{N-1}{2}}i^2 + 4\\sum_{i=1}^{\\frac{N-1}{2}}(i+1)$$ \n",
    "$$ = (1 + 4\\frac{N-1}{2}) + 16\\frac{\\frac{N-1}{2}(\\frac{N-1}{2} + 1)(2\\frac{N-1}{2} + 1)}{6} + 4\\frac{\\frac{N-1}{2}(\\frac{N-1}{2} + 1)}{2} $$\n",
    "$$ = -1 + 2N + \\frac{1}{2}(N-1)(N+1) + \\frac{2}{3}(N-1)(N)(N+1) $$\n",
    "and for even $N$:\n",
    "$$\\sum_{i=1}^{\\frac{N}{2}} \\left\\{ 4(2i)^2 - (2i)(1 + 2 + 3) + (1 + 2 + 3)\\right\\}$$\n",
    "$$ = 16\\frac{\\frac{N}{2}(\\frac{N}{2} + 1)(2\\frac{N}{2} + 1)}{6} - 12\\frac{\\frac{N}{2}(\\frac{N}{2} + 1)}{2} + 6\\frac{N}{2}$$\n",
    "$$ = 3N - \\frac{3}{2}N(N+2) + \\frac{2}{3}N(N+1)(N+2)$$"
   ]
  },
  {
   "cell_type": "code",
   "execution_count": 1,
   "metadata": {
    "collapsed": false
   },
   "outputs": [],
   "source": [
    "def diag_sum(n):\n",
    "    if n % 2 == 1:\n",
    "        return -1 + 2*n + ((n-1)*(n+1))/2 + (2*(n-1)*n*(n+1))/3\n",
    "    else:\n",
    "        return 3*n - (3*n*(n+2))/2 + (2*n*(n+1)*(n+2))/3\n",
    "\n",
    "assert diag_sum(n=5) == 101\n",
    "assert diag_sum(n=4) == 7+1+3+13+16+4+2+10"
   ]
  },
  {
   "cell_type": "code",
   "execution_count": 7,
   "metadata": {
    "collapsed": false
   },
   "outputs": [
    {
     "data": {
      "text/plain": [
       "666666916666710000001L"
      ]
     },
     "execution_count": 7,
     "metadata": {},
     "output_type": "execute_result"
    }
   ],
   "source": [
    "diag_sum(n=10000001)"
   ]
  },
  {
   "cell_type": "code",
   "execution_count": null,
   "metadata": {
    "collapsed": true
   },
   "outputs": [],
   "source": []
  }
 ],
 "metadata": {
  "kernelspec": {
   "display_name": "Python 2",
   "language": "python",
   "name": "python2"
  },
  "language_info": {
   "codemirror_mode": {
    "name": "ipython",
    "version": 2
   },
   "file_extension": ".py",
   "mimetype": "text/x-python",
   "name": "python",
   "nbconvert_exporter": "python",
   "pygments_lexer": "ipython2",
   "version": "2.7.12"
  }
 },
 "nbformat": 4,
 "nbformat_minor": 1
}
