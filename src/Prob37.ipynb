{
 "cells": [
  {
   "cell_type": "markdown",
   "metadata": {},
   "source": [
    "The number 3797 has an interesting property. Being prime itself, it is possible to continuously remove digits from left to right, and remain prime at each stage: 3797, 797, 97, and 7. Similarly we can work from right to left: 3797, 379, 37, and 3.\n",
    "\n",
    "Find the sum of the only eleven primes that are both truncatable from left to right and right to left.\n",
    "\n",
    "NOTE: 2, 3, 5, and 7 are not considered to be truncatable primes."
   ]
  },
  {
   "cell_type": "code",
   "execution_count": 1,
   "metadata": {
    "collapsed": false
   },
   "outputs": [
    {
     "name": "stdout",
     "output_type": "stream",
     "text": [
      "78498\n"
     ]
    }
   ],
   "source": [
    "def prime_factors(n): # from eratosthenes\n",
    "    factors = []\n",
    "    d = 2\n",
    "    while n > 1:\n",
    "        while n % d == 0:\n",
    "            factors.append(d)\n",
    "            n /= d\n",
    "        \n",
    "        d = d + 1\n",
    "        if d * d > n:\n",
    "            if n > 1:\n",
    "                factors.append(n)\n",
    "            break\n",
    "            \n",
    "    return factors\n",
    "\n",
    "def primes_less_than_n(n):\n",
    "    \"\"\" Returns  a list of primes < n \"\"\"\n",
    "    sieve = [True] * n\n",
    "    for i in xrange(3,int(n**0.5)+1,2):\n",
    "        if sieve[i]:\n",
    "            sieve[i*i::2*i]=[False]*((n-i*i-1)/(2*i)+1)\n",
    "    return [2] + [i for i in xrange(3,n,2) if sieve[i]]\n",
    "\n",
    "max_num_digits = 6\n",
    "all_primes = primes_less_than_n((10**max_num_digits+1)-1)\n",
    "max_p = all_primes[-1]\n",
    "all_primes = set(all_primes)\n",
    "print len(all_primes)\n",
    "\n",
    "def is_prime(n):\n",
    "    if n <= max_p:\n",
    "        return n in all_primes\n",
    "    \n",
    "    return len(prime_factors(n)) == 1"
   ]
  },
  {
   "cell_type": "code",
   "execution_count": 2,
   "metadata": {
    "collapsed": false
   },
   "outputs": [
    {
     "name": "stdout",
     "output_type": "stream",
     "text": [
      "23\n",
      "37\n",
      "53\n",
      "73\n",
      "313\n",
      "317\n",
      "373\n",
      "797\n",
      "3137\n",
      "3797\n",
      "739397\n",
      "748317\n"
     ]
    }
   ],
   "source": [
    "truncatable = []\n",
    "for p in all_primes:\n",
    "    s = str(p)\n",
    "    if len(s) == 1:\n",
    "        continue\n",
    "        \n",
    "    is_trunc = True\n",
    "    for i in range(1,len(s)):\n",
    "        if not is_prime(int(s[:i])) or not is_prime(int(s[-i:])):\n",
    "          is_trunc = False\n",
    "          break\n",
    "    if is_trunc:\n",
    "        truncatable.append(p)\n",
    "        print p\n",
    "        \n",
    "print sum(truncatable)"
   ]
  }
 ],
 "metadata": {
  "kernelspec": {
   "display_name": "Python 2",
   "language": "python",
   "name": "python2"
  },
  "language_info": {
   "codemirror_mode": {
    "name": "ipython",
    "version": 2
   },
   "file_extension": ".py",
   "mimetype": "text/x-python",
   "name": "python",
   "nbconvert_exporter": "python",
   "pygments_lexer": "ipython2",
   "version": "2.7.12"
  }
 },
 "nbformat": 4,
 "nbformat_minor": 1
}
