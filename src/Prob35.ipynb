{
 "cells": [
  {
   "cell_type": "markdown",
   "metadata": {},
   "source": [
    "The number, 197, is called a circular prime because all rotations of the digits: 197, 971, and 719, are themselves prime.\n",
    "\n",
    "There are thirteen such primes below 100: 2, 3, 5, 7, 11, 13, 17, 31, 37, 71, 73, 79, and 97.\n",
    "\n",
    "How many circular primes are there below one million?"
   ]
  },
  {
   "cell_type": "code",
   "execution_count": 1,
   "metadata": {
    "collapsed": false
   },
   "outputs": [
    {
     "name": "stdout",
     "output_type": "stream",
     "text": [
      "78498\n"
     ]
    }
   ],
   "source": [
    "def prime_factors(n): # from eratosthenes\n",
    "    factors = []\n",
    "    d = 2\n",
    "    while n > 1:\n",
    "        while n % d == 0:\n",
    "            factors.append(d)\n",
    "            n /= d\n",
    "        \n",
    "        d = d + 1\n",
    "        if d * d > n:\n",
    "            if n > 1:\n",
    "                factors.append(n)\n",
    "            break\n",
    "            \n",
    "    return factors\n",
    "\n",
    "def primes_less_than_n(n):\n",
    "    \"\"\" Returns  a list of primes < n \"\"\"\n",
    "    sieve = [True] * n\n",
    "    for i in xrange(3,int(n**0.5)+1,2):\n",
    "        if sieve[i]:\n",
    "            sieve[i*i::2*i]=[False]*((n-i*i-1)/(2*i)+1)\n",
    "    return [2] + [i for i in xrange(3,n,2) if sieve[i]]\n",
    "\n",
    "max_num_digits = 6\n",
    "all_primes = primes_less_than_n((10**max_num_digits+1)-1)\n",
    "max_p = all_primes[-1]\n",
    "all_primes = set(all_primes)\n",
    "print len(all_primes)\n",
    "\n",
    "def is_prime(n):\n",
    "    if n <= max_p:\n",
    "        return n in all_primes\n",
    "    \n",
    "    return len(prime_factors(n)) == 1"
   ]
  },
  {
   "cell_type": "code",
   "execution_count": 2,
   "metadata": {
    "collapsed": false
   },
   "outputs": [],
   "source": [
    "import itertools\n",
    "\n",
    "def rotations(a):\n",
    "    l = list(a)\n",
    "    for i in range(len(l)):\n",
    "        l.insert(0, l[-1])\n",
    "        del l[-1]\n",
    "        \n",
    "        yield ''.join(l)\n",
    "    \n",
    "circular_primes = []\n",
    "for n in all_primes:\n",
    "    d = str(n)\n",
    "    is_circular = True\n",
    "    for o in rotations(d):\n",
    "        n2 = ''.join(list(o))\n",
    "        if not is_prime(int(n2)):\n",
    "            is_circular = False\n",
    "            break\n",
    "            \n",
    "    if is_circular:\n",
    "        circular_primes.append(n)"
   ]
  },
  {
   "cell_type": "code",
   "execution_count": 3,
   "metadata": {
    "collapsed": false
   },
   "outputs": [
    {
     "name": "stdout",
     "output_type": "stream",
     "text": [
      "55\n",
      "[2, 3, 5, 7, 11, 13, 17, 31, 37, 71, 73, 79, 97, 113, 131, 197, 199, 311, 337, 373, 393919, 719, 733, 919, 971, 991, 1193, 1931, 3119, 3779, 7793, 7937, 9311, 9377, 11939, 19391, 19937, 939193, 331999, 919393, 37199, 39119, 319993, 193939, 199933, 71993, 91193, 93719, 93911, 999331, 99371, 933199, 939391, 391939, 993319]\n"
     ]
    }
   ],
   "source": [
    "print len(circular_primes)\n",
    "print circular_primes"
   ]
  },
  {
   "cell_type": "code",
   "execution_count": null,
   "metadata": {
    "collapsed": true
   },
   "outputs": [],
   "source": []
  }
 ],
 "metadata": {
  "kernelspec": {
   "display_name": "Python 2",
   "language": "python",
   "name": "python2"
  },
  "language_info": {
   "codemirror_mode": {
    "name": "ipython",
    "version": 2
   },
   "file_extension": ".py",
   "mimetype": "text/x-python",
   "name": "python",
   "nbconvert_exporter": "python",
   "pygments_lexer": "ipython2",
   "version": "2.7.12"
  }
 },
 "nbformat": 4,
 "nbformat_minor": 1
}
