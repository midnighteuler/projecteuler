{
 "metadata": {
  "name": ""
 },
 "nbformat": 3,
 "nbformat_minor": 0,
 "worksheets": [
  {
   "cells": [
    {
     "cell_type": "markdown",
     "metadata": {},
     "source": [
      "The sum of the squares of the first ten natural numbers is,\n",
      "\n",
      "12 + 22 + ... + 102 = 385\n",
      "\n",
      "The square of the sum of the first ten natural numbers is,\n",
      "\n",
      "(1 + 2 + ... + 10)2 = 552 = 3025\n",
      "\n",
      "Hence the difference between the sum of the squares of the first ten natural numbers and the square of the sum is 3025 - 385 = 2640.\n",
      "\n",
      "\n",
      "Find the difference between the sum of the squares of the first one hundred natural numbers and the square of the sum.\n",
      "<br><br>"
     ]
    },
    {
     "cell_type": "markdown",
     "metadata": {},
     "source": [
      "Another finite sum for which there's a closed form.\n",
      "$$\\sum_{i=1}^{n} i^2 = \\frac{n (n+1) (2n + 1)}{6}$$\n",
      "\n",
      "and\n",
      "\n",
      "$$(\\sum_{i=1}^{n} i)^{2} = (\\frac{n (n+1)}{2})^{2}$$\n",
      "\n",
      "So we have $(\\sum_{i=1}^{n} i)^{2} - \\sum_{i=1}^{n} i^2 = (\\frac{n (n+1)}{2})^{2} - \\frac{n (n+1) (2n + 1)}{6}$"
     ]
    },
    {
     "cell_type": "code",
     "collapsed": false,
     "input": [
      "def diff_of_sums(N):\n",
      "    return (0.5*N*(N+1))**2 - N*(N+1)*(2*N+1)/6\n",
      "print diff_of_sums(100)"
     ],
     "language": "python",
     "metadata": {},
     "outputs": [
      {
       "output_type": "stream",
       "stream": "stdout",
       "text": [
        "25164150.0\n"
       ]
      }
     ],
     "prompt_number": 2
    }
   ],
   "metadata": {}
  }
 ]
}