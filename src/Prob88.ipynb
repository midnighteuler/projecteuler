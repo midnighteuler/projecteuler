{
 "cells": [
  {
   "cell_type": "markdown",
   "metadata": {},
   "source": [
    "A natural number, N, that can be written as the sum and product of a given set of at least two natural numbers, {a1, a2, ... , ak} is called a product-sum number: N = a1 + a2 + ... + ak = a1 × a2 × ... × ak.\n",
    "\n",
    "For example, 6 = 1 + 2 + 3 = 1 × 2 × 3.\n",
    "\n",
    "For a given set of size, k, we shall call the smallest N with this property a minimal product-sum number. The minimal product-sum numbers for sets of size, k = 2, 3, 4, 5, and 6 are as follows.\n",
    "\n",
    "k=2: 4 = 2 × 2 = 2 + 2\n",
    "\n",
    "k=3: 6 = 1 × 2 × 3 = 1 + 2 + 3\n",
    "\n",
    "k=4: 8 = 1 × 1 × 2 × 4 = 1 + 1 + 2 + 4\n",
    "\n",
    "k=5: 8 = 1 × 1 × 2 × 2 × 2 = 1 + 1 + 2 + 2 + 2\n",
    "\n",
    "k=6: 12 = 1 × 1 × 1 × 1 × 2 × 6 = 1 + 1 + 1 + 1 + 2 + 6\n",
    "\n",
    "Hence for 2≤k≤6, the sum of all the minimal product-sum numbers is 4+6+8+12 = 30; note that 8 is only counted once in the sum.\n",
    "\n",
    "In fact, as the complete set of minimal product-sum numbers for 2≤k≤12 is {4, 6, 8, 12, 15, 16}, the sum is 61.\n",
    "\n",
    "What is the sum of all the minimal product-sum numbers for 2≤k≤12000?"
   ]
  },
  {
   "cell_type": "code",
   "execution_count": 1,
   "metadata": {
    "collapsed": false
   },
   "outputs": [
    {
     "name": "stdout",
     "output_type": "stream",
     "text": [
      "[1, 2, 4, 5, 10, 11, 20, 22, 44, 55, 110]\n"
     ]
    }
   ],
   "source": [
    "import itertools\n",
    "import numpy as np\n",
    "def prime_factors(n): # from eratosthenes\n",
    "    factors = []\n",
    "    d = 2\n",
    "    while n > 1:\n",
    "        while n % d == 0:\n",
    "            factors.append(d)\n",
    "            n /= d\n",
    "        \n",
    "        d = d + 1\n",
    "        if d * d > n:\n",
    "            if n > 1:\n",
    "                factors.append(n)\n",
    "            break\n",
    "            \n",
    "    return factors\n",
    "\n",
    "def powerset(iterable): # from itertools\n",
    "    \"powerset([1,2,3]) --> () (1,) (2,) (3,) (1,2) (1,3) (2,3) (1,2,3)\"\n",
    "    s = list(iterable)\n",
    "    return itertools.chain.from_iterable(itertools.combinations(s, r) for r in range(len(s)+1))\n",
    "\n",
    "def proper_divisors(n):\n",
    "    pf = prime_factors(n)\n",
    "    factors = []\n",
    "    for p in set(powerset(pf)):\n",
    "        factors.append(int(np.prod(np.array(p))))\n",
    "        \n",
    "    return sorted(factors)[:-1]\n",
    "    \n",
    "print proper_divisors(n=220)"
   ]
  },
  {
   "cell_type": "code",
   "execution_count": 141,
   "metadata": {
    "collapsed": false,
    "scrolled": true
   },
   "outputs": [
    {
     "name": "stdout",
     "output_type": "stream",
     "text": [
      "test\n",
      "test\n",
      "123656 232 set([512, 768, 1026, 4, 6, 8, 855, 12, 525, 15, 16, 600, 18, 20, 24, 1050, 27, 28, 30, 32, 832, 546, 36, 550, 40, 42, 45, 1071, 48, 54, 567, 56, 570, 60, 63, 64, 864, 1092, 70, 72, 588, 80, 81, 594, 595, 84, 88, 612, 90, 1116, 702, 96, 528, 1122, 100, 1125, 616, 105, 108, 110, 112, 625, 1140, 117, 630, 120, 125, 126, 128, 704, 644, 135, 648, 140, 144, 792, 1170, 660, 1134, 150, 152, 156, 160, 624, 162, 539, 960, 168, 540, 684, 686, 175, 176, 1224, 180, 693, 184, 700, 189, 190, 1215, 192, 800, 1024, 200, 714, 1200, 208, 1144, 210, 1216, 216, 729, 224, 720, 891, 228, 234, 1184, 748, 750, 240, 1064, 243, 756, 248, 980, 250, 252, 256, 640, 260, 264, 780, 270, 1120, 272, 280, 798, 288, 560, 896, 1152, 1040, 297, 810, 300, 816, 306, 308, 312, 825, 315, 828, 320, 324, 1078, 840, 1164, 330, 336, 1080, 342, 343, 858, 348, 350, 351, 352, 912, 360, 572, 875, 880, 882, 884, 375, 888, 378, 575, 380, 384, 576, 900, 392, 396, 910, 400, 920, 405, 918, 408, 924, 416, 931, 420, 935, 936, 425, 696, 432, 945, 952, 950, 1232, 440, 441, 448, 672, 450, 1100, 972, 462, 675, 468, 1188, 476, 990, 480, 1104, 484, 486, 1056, 1000, 495, 1008, 680, 500, 504, 1176, 1020, 784])\n",
      "30 seconds\n"
     ]
    }
   ],
   "source": [
    "import math\n",
    "import time\n",
    "import calendar\n",
    "\n",
    "def factorizations(n):\n",
    "    divisors = proper_divisors(n)\n",
    "    \n",
    "    facts = set()\n",
    "    for i,d in enumerate(divisors):\n",
    "        if d == 1:\n",
    "            continue\n",
    "            \n",
    "        b = n/d\n",
    "        facts.add(tuple(sorted([b,d])))\n",
    "        for f in factorizations(b):\n",
    "            f = list(f)\n",
    "            f.append(d)\n",
    "            facts.add(tuple(sorted(f)))\n",
    "    return facts\n",
    "\n",
    "def is_prod_sum(n, k):\n",
    "    for f in factorizations(n):\n",
    "        if len(f) == k and sum(f) == n:\n",
    "            #print f\n",
    "            return True\n",
    "        elif len(f) < k and sum(f) == n - (k - len(f)):\n",
    "            #print f, '+ 1 *', k - len(f)\n",
    "            return True\n",
    "    \n",
    "    return False\n",
    "\n",
    "time_start = calendar.timegm(time.gmtime())\n",
    "\n",
    "min_set = set()\n",
    "max_k = 12000\n",
    "for k in range(2,max_k):\n",
    "    for n in range(k,int(max_k*1.5)):\n",
    "        if is_prod_sum(n, k):\n",
    "            #print \"k =\",k,\"n =\",n\n",
    "            min_set.add(n)\n",
    "            break\n",
    "print sum(min_set), len(min_set)\n",
    "\n",
    "time_stop = calendar.timegm(time.gmtime())\n",
    "print time_stop - time_start, 'seconds'"
   ]
  },
  {
   "cell_type": "code",
   "execution_count": 119,
   "metadata": {
    "collapsed": false
   },
   "outputs": [
    {
     "data": {
      "text/plain": [
       "12200"
      ]
     },
     "execution_count": 119,
     "metadata": {},
     "output_type": "execute_result"
    }
   ],
   "source": [
    "max(min_set) # 12200. 7587457. 1409"
   ]
  },
  {
   "cell_type": "code",
   "execution_count": null,
   "metadata": {
    "collapsed": true
   },
   "outputs": [],
   "source": []
  }
 ],
 "metadata": {
  "kernelspec": {
   "display_name": "Python 2",
   "language": "python",
   "name": "python2"
  },
  "language_info": {
   "codemirror_mode": {
    "name": "ipython",
    "version": 2
   },
   "file_extension": ".py",
   "mimetype": "text/x-python",
   "name": "python",
   "nbconvert_exporter": "python",
   "pygments_lexer": "ipython2",
   "version": "2.7.12"
  }
 },
 "nbformat": 4,
 "nbformat_minor": 1
}
