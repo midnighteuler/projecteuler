{
 "metadata": {
  "name": ""
 },
 "nbformat": 3,
 "nbformat_minor": 0,
 "worksheets": [
  {
   "cells": [
    {
     "cell_type": "markdown",
     "metadata": {},
     "source": [
      "<pre>\n",
      "The sum of the primes below 10 is 2 + 3 + 5 + 7 = 17.\n",
      "\n",
      "Find the sum of all the primes below two million.\n",
      "\n",
      "\n",
      "</pre>"
     ]
    },
    {
     "cell_type": "code",
     "collapsed": false,
     "input": [
      "def primes_beneath(N):\n",
      "    primes_found = [2]\n",
      "    i = 2\n",
      "    while primes_found[-1] < N:\n",
      "        i += 1\n",
      "        d = 1\n",
      "        sqrt_i = sqrt(i)\n",
      "        for p in primes_found:\n",
      "            if i % p == 0:\n",
      "                d = i / p\n",
      "                break\n",
      "            if p > sqrt_i:\n",
      "                break\n",
      "        if d == 1:\n",
      "            primes_found.append(i)\n",
      "        i += 1 # can skip evens.\n",
      "    return primes_found[:-1]\n",
      "\n",
      "pr = primes_beneath(10)\n",
      "print pr, sum(pr)"
     ],
     "language": "python",
     "metadata": {},
     "outputs": [
      {
       "output_type": "stream",
       "stream": "stdout",
       "text": [
        "[2, 3, 5, 7] 17\n"
       ]
      }
     ],
     "prompt_number": 13
    },
    {
     "cell_type": "code",
     "collapsed": false,
     "input": [
      "pr = primes_beneath(2e6)\n",
      "print sum(pr)"
     ],
     "language": "python",
     "metadata": {},
     "outputs": [
      {
       "output_type": "stream",
       "stream": "stdout",
       "text": [
        "142913828922\n"
       ]
      }
     ],
     "prompt_number": 14
    },
    {
     "cell_type": "code",
     "collapsed": false,
     "input": [],
     "language": "python",
     "metadata": {},
     "outputs": []
    }
   ],
   "metadata": {}
  }
 ]
}