{
 "cells": [
  {
   "cell_type": "markdown",
   "metadata": {},
   "source": [
    "The number, 1406357289, is a 0 to 9 pandigital number because it is made up of each of the digits 0 to 9 in some order, but it also has a rather interesting sub-string divisibility property.\n",
    "\n",
    "Let d1 be the 1st digit, d2 be the 2nd digit, and so on. In this way, we note the following:\n",
    "\n",
    "d2d3d4=406 is divisible by 2\n",
    "\n",
    "d3d4d5=063 is divisible by 3\n",
    "\n",
    "d4d5d6=635 is divisible by 5\n",
    "\n",
    "d5d6d7=357 is divisible by 7\n",
    "\n",
    "d6d7d8=572 is divisible by 11\n",
    "\n",
    "d7d8d9=728 is divisible by 13\n",
    "\n",
    "d8d9d10=289 is divisible by 17\n",
    "\n",
    "Find the sum of all 0 to 9 pandigital numbers with this property.\n",
    "\n"
   ]
  },
  {
   "cell_type": "code",
   "execution_count": 1,
   "metadata": {
    "collapsed": false
   },
   "outputs": [
    {
     "name": "stdout",
     "output_type": "stream",
     "text": [
      "[1406357289, 1430952867, 1460357289, 4106357289, 4130952867, 4160357289]\n",
      "16695334890\n"
     ]
    }
   ],
   "source": [
    "def has_property(s):\n",
    "    p = [2,3,5,7,11,13,17]\n",
    "\n",
    "    for i in range(2,9):\n",
    "        if int(s[i-1: i+2]) % p[i-2] != 0:\n",
    "            return False\n",
    "        \n",
    "    return True\n",
    "        \n",
    "assert has_property('1406357289')\n",
    "\n",
    "import itertools\n",
    "\n",
    "pandigitals = []\n",
    "for s in itertools.permutations([str(i) for i in range(10)]):\n",
    "    n = ''.join(s)\n",
    "    \n",
    "    if has_property(n):\n",
    "        pandigitals.append(int(n))\n",
    "        \n",
    "print pandigitals\n",
    "print sum(pandigitals)"
   ]
  },
  {
   "cell_type": "code",
   "execution_count": null,
   "metadata": {
    "collapsed": true
   },
   "outputs": [],
   "source": []
  }
 ],
 "metadata": {
  "kernelspec": {
   "display_name": "Python 2",
   "language": "python",
   "name": "python2"
  },
  "language_info": {
   "codemirror_mode": {
    "name": "ipython",
    "version": 2
   },
   "file_extension": ".py",
   "mimetype": "text/x-python",
   "name": "python",
   "nbconvert_exporter": "python",
   "pygments_lexer": "ipython2",
   "version": "2.7.12"
  }
 },
 "nbformat": 4,
 "nbformat_minor": 1
}
