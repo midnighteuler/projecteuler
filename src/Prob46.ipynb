{
 "cells": [
  {
   "cell_type": "markdown",
   "metadata": {},
   "source": [
    "It was proposed by Christian Goldbach that every odd composite number can be written as the sum of a prime and twice a square.\n",
    "\n",
    "9 = 7 + 2×1^2\n",
    "\n",
    "15 = 7 + 2×2^2\n",
    "\n",
    "21 = 3 + 2×3^2\n",
    "\n",
    "25 = 7 + 2×3^2\n",
    "\n",
    "27 = 19 + 2×2^2\n",
    "\n",
    "33 = 31 + 2×1^2\n",
    "\n",
    "It turns out that the conjecture was false.\n",
    "\n",
    "What is the smallest odd composite that cannot be written as the sum of a prime and twice a square?"
   ]
  },
  {
   "cell_type": "code",
   "execution_count": 1,
   "metadata": {
    "collapsed": false
   },
   "outputs": [
    {
     "name": "stdout",
     "output_type": "stream",
     "text": [
      "9592\n"
     ]
    }
   ],
   "source": [
    "def primes_less_than_n(n):\n",
    "    \"\"\" Returns  a list of primes < n \"\"\"\n",
    "    sieve = [True] * n\n",
    "    for i in xrange(3,int(n**0.5)+1,2):\n",
    "        if sieve[i]:\n",
    "            sieve[i*i::2*i]=[False]*((n-i*i-1)/(2*i)+1)\n",
    "    return [2] + [i for i in xrange(3,n,2) if sieve[i]]\n",
    "\n",
    "max_num_digits = 5\n",
    "primes = primes_less_than_n((10**max_num_digits+1)-1)\n",
    "print len(primes)\n",
    "\n",
    "s_primes = set(primes)\n",
    "def is_prime(p):\n",
    "    return p in s_primes"
   ]
  },
  {
   "cell_type": "code",
   "execution_count": 2,
   "metadata": {
    "collapsed": false
   },
   "outputs": [
    {
     "name": "stdout",
     "output_type": "stream",
     "text": [
      "5777\n"
     ]
    }
   ],
   "source": [
    "import math\n",
    "\n",
    "for i in range(1,10**5):\n",
    "    o = 2*i + 1\n",
    "    if is_prime(o):\n",
    "        continue\n",
    "    \n",
    "    found = False\n",
    "    for p in primes:\n",
    "        if p > o:\n",
    "            break\n",
    "        \n",
    "        t = math.sqrt((o - p)/2.0)\n",
    "        if abs(t - math.floor(t)) < 1e-10:\n",
    "            found = True\n",
    "            break\n",
    "    if not found:\n",
    "        print o\n",
    "        break"
   ]
  }
 ],
 "metadata": {
  "kernelspec": {
   "display_name": "Python 2",
   "language": "python",
   "name": "python2"
  },
  "language_info": {
   "codemirror_mode": {
    "name": "ipython",
    "version": 2
   },
   "file_extension": ".py",
   "mimetype": "text/x-python",
   "name": "python",
   "nbconvert_exporter": "python",
   "pygments_lexer": "ipython2",
   "version": "2.7.12"
  }
 },
 "nbformat": 4,
 "nbformat_minor": 1
}
