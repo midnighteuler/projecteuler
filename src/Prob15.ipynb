{
 "cells": [
  {
   "cell_type": "markdown",
   "metadata": {},
   "source": [
    "### Problem:\n",
    "Starting in the top left corner of a 2×2 grid, and only being able to move to the right and down, there are exactly 6 routes to the bottom right corner.\n",
    "\n",
    "How many such routes are there through a 20×20 grid?"
   ]
  },
  {
   "cell_type": "markdown",
   "metadata": {},
   "source": [
    "rrdd\n",
    "rdrd\n",
    "rddr\n",
    "drrd\n",
    "drdr\n",
    "ddrr\n",
    "\n",
    "Treating the paths as strings, we see that for an NxN grid, these are the permutations of N \"d\" and N \"r\" movements.\n",
    "\n",
    "So there are (2N)! / (N!)^2.\n",
    "\n",
    "For N = 20, (2N)! is huge; so we should simplify the expression first.\n",
    "\n",
    "40! / (20! * 20!) = ((40*39*38*...*22*21)*20!) / (20! * 20!)"
   ]
  },
  {
   "cell_type": "code",
   "execution_count": 1,
   "metadata": {
    "collapsed": false
   },
   "outputs": [
    {
     "name": "stdout",
     "output_type": "stream",
     "text": [
      "335367096786357081410764800000 2432902008176640000 137846528820\n"
     ]
    }
   ],
   "source": [
    "n = 1\n",
    "d = 1\n",
    "for i in range(21,41):\n",
    "    n *= i\n",
    "    d *= (i - 20)\n",
    "\n",
    "print n,d,n/d"
   ]
  },
  {
   "cell_type": "code",
   "execution_count": null,
   "metadata": {
    "collapsed": true
   },
   "outputs": [],
   "source": []
  }
 ],
 "metadata": {
  "kernelspec": {
   "display_name": "Python 2",
   "language": "python",
   "name": "python2"
  },
  "language_info": {
   "codemirror_mode": {
    "name": "ipython",
    "version": 2
   },
   "file_extension": ".py",
   "mimetype": "text/x-python",
   "name": "python",
   "nbconvert_exporter": "python",
   "pygments_lexer": "ipython2",
   "version": "2.7.12"
  }
 },
 "nbformat": 4,
 "nbformat_minor": 1
}
