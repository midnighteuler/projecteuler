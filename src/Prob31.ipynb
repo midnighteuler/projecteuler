{
 "cells": [
  {
   "cell_type": "markdown",
   "metadata": {},
   "source": [
    "In England the currency is made up of pound, £, and pence, p, and there are eight coins in general circulation:\n",
    "\n",
    "1p, 2p, 5p, 10p, 20p, 50p, £1 (100p) and £2 (200p).\n",
    "It is possible to make £2 in the following way:\n",
    "\n",
    "1×£1 + 1×50p + 2×20p + 1×5p + 1×2p + 3×1p\n",
    "How many different ways can £2 be made using any number of coins?"
   ]
  },
  {
   "cell_type": "code",
   "execution_count": 1,
   "metadata": {
    "collapsed": false
   },
   "outputs": [
    {
     "data": {
      "text/plain": [
       "73682"
      ]
     },
     "execution_count": 1,
     "metadata": {},
     "output_type": "execute_result"
    }
   ],
   "source": [
    "import math\n",
    "coin_denoms = [1,2,5,10,20,50,100,200]\n",
    "\n",
    "def num_ways(val, denoms):\n",
    "    if len(denoms) == 0:\n",
    "        return 0\n",
    "    \n",
    "    if val == 0:\n",
    "        return 1\n",
    "    \n",
    "    # Find highest\n",
    "    m = -1\n",
    "    for i,v in enumerate(denoms):\n",
    "        m = i\n",
    "        if v > val:\n",
    "            #print v,\">\",val\n",
    "            break\n",
    "    M = denoms[m]\n",
    "    #print \"val:\", val, \"denoms:\", denoms, \"max denom:\", M\n",
    "    \n",
    "    count = 0\n",
    "    for j in range(int(math.floor(val*1.0/M)) + 1):\n",
    "        if val - j*M == 0:\n",
    "            #print val,'-',j,'*',M,'= 0'\n",
    "            count += 1\n",
    "        else:\n",
    "            #print \"recursing to express \",val - j*M, \"using\", denoms[:m]\n",
    "            count += num_ways(val - j*M, denoms[:m])\n",
    "    #print \"Count:\",count\n",
    "    \n",
    "    return count\n",
    "\n",
    "assert num_ways(val=5, denoms=coin_denoms) == 4\n",
    "assert num_ways(val=6, denoms=coin_denoms) == 5\n",
    "\n",
    "num_ways(val=200, denoms=coin_denoms)"
   ]
  }
 ],
 "metadata": {
  "kernelspec": {
   "display_name": "Python 2",
   "language": "python",
   "name": "python2"
  },
  "language_info": {
   "codemirror_mode": {
    "name": "ipython",
    "version": 2
   },
   "file_extension": ".py",
   "mimetype": "text/x-python",
   "name": "python",
   "nbconvert_exporter": "python",
   "pygments_lexer": "ipython2",
   "version": "2.7.12"
  }
 },
 "nbformat": 4,
 "nbformat_minor": 1
}
