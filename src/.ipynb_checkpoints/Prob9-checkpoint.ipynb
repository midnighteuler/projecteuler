{
 "metadata": {
  "name": ""
 },
 "nbformat": 3,
 "nbformat_minor": 0,
 "worksheets": [
  {
   "cells": [
    {
     "cell_type": "markdown",
     "metadata": {},
     "source": [
      "<pre>\n",
      "A Pythagorean triplet is a set of three natural numbers, a < b < c, for which,\n",
      "\n",
      "a^2 + b^2 = c^2\n",
      "For example, 3^2 + 4^2 = 9 + 16 = 25 = 5^2.\n",
      "\n",
      "There exists exactly one Pythagorean triplet for which a + b + c = 1000.\n",
      "Find the product abc.\n",
      "</pre>"
     ]
    },
    {
     "cell_type": "markdown",
     "metadata": {},
     "source": [
      "Have $a + b + c = 1000$ and $a^2 + b^2 = c^2$\n",
      "\n",
      "We can reduce this with a little algebra:\n",
      "\n",
      "$$a^2 = c^2 - b^2 = (c + b)(c - b)$$\n",
      "\n",
      "\n",
      "So\n",
      "$$a^2 = (1000 - a)(1000 - a - 2b)$$\n",
      "\n",
      "\n",
      "Simplifying:\n",
      "$$\n",
      "a + b - \\frac{ab}{1000} = 500\n",
      "\\\\ b = \\frac{1000 (500 - a)}{1000 - a}\n",
      "$$"
     ]
    },
    {
     "cell_type": "code",
     "collapsed": false,
     "input": [
      "for i in range(2, 500):\n",
      "    if 1000*(500 - i) % (1000 - i) == 0:\n",
      "        a = i\n",
      "        b = (1000*(500 - i))/(1000 - i)\n",
      "        c = 1000 - a - b\n",
      "        break\n",
      "print \"a:\",a, \"b:\",b, \"c:\",c\n",
      "print a**2 + b**2, c**2\n",
      "print a*b*c"
     ],
     "language": "python",
     "metadata": {},
     "outputs": [
      {
       "output_type": "stream",
       "stream": "stdout",
       "text": [
        "a: 200 b: 375 c: 425\n",
        "180625 180625\n",
        "31875000\n"
       ]
      }
     ],
     "prompt_number": 7
    },
    {
     "cell_type": "code",
     "collapsed": false,
     "input": [],
     "language": "python",
     "metadata": {},
     "outputs": []
    }
   ],
   "metadata": {}
  }
 ]
}